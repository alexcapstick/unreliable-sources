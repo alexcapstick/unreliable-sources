{
 "cells": [
  {
   "cell_type": "code",
   "execution_count": 11,
   "metadata": {},
   "outputs": [],
   "source": [
    "output_path = './outputs/graphs/'\n",
    "results_path = 'outputs/goemotions/'"
   ]
  },
  {
   "cell_type": "code",
   "execution_count": 12,
   "metadata": {},
   "outputs": [],
   "source": [
    "import json\n",
    "import pandas as pd\n",
    "import numpy as np\n",
    "import seaborn as sns\n",
    "import matplotlib.pyplot as plt\n",
    "import matplotlib as mpl\n",
    "import os\n",
    "import graph_code.graphing_utils as plotting\n",
    "from copy import deepcopy"
   ]
  },
  {
   "cell_type": "code",
   "execution_count": 13,
   "metadata": {},
   "outputs": [],
   "source": [
    "colwidth = 4.22716535\n",
    "pagewidth = 8.7598425"
   ]
  },
  {
   "cell_type": "code",
   "execution_count": 14,
   "metadata": {},
   "outputs": [],
   "source": [
    "results_dict = {}\n",
    "\n",
    "for file in [\n",
    "    f \n",
    "    for f in os.listdir(results_path)\n",
    "    if f.endswith(\"json\")\n",
    "]:\n",
    "    with open(results_path + file) as f:\n",
    "        results_temp = json.load(f)\n",
    "    results_dict[file] = results_temp"
   ]
  },
  {
   "cell_type": "code",
   "execution_count": 15,
   "metadata": {},
   "outputs": [],
   "source": [
    "results_idpa = {\n",
    "    ds : {\n",
    "        ctype : {\n",
    "            run: {\n",
    "                'idpa': results_dict['results_idpa.json'][ds][ctype][run]\n",
    "            } for run in results_dict['results_idpa.json'][ds][ctype]\n",
    "        } for ctype in results_dict['results_idpa.json'][ds]\n",
    "    } for ds in results_dict['results_idpa.json']\n",
    "}\n",
    "\n",
    "results_cot = {\n",
    "    ds : {\n",
    "        ctype : {\n",
    "            run: {\n",
    "                'cot': results_dict['results_cot.json'][ds][ctype][run]\n",
    "            } for run in results_dict['results_cot.json'][ds][ctype]\n",
    "        } for ctype in results_dict['results_cot.json'][ds]\n",
    "    } for ds in results_dict['results_cot.json']\n",
    "}\n",
    "\n",
    "results_cdr = {\n",
    "    ds : {\n",
    "        ctype : {\n",
    "            run: {\n",
    "                'cdr': results_dict['results_cdr.json'][ds][ctype][run]\n",
    "            } for run in results_dict['results_cdr.json'][ds][ctype]\n",
    "        } for ctype in results_dict['results_cdr.json'][ds]\n",
    "    } for ds in results_dict['results_cdr.json']\n",
    "}\n",
    "\n",
    "results_nls = {\n",
    "    ds : {\n",
    "        ctype : {\n",
    "            run: {\n",
    "                'nls': results_dict['results_nls.json'][ds][ctype][run]\n",
    "            } for run in results_dict['results_nls.json'][ds][ctype]\n",
    "        } for ctype in results_dict['results_nls.json'][ds]\n",
    "    } for ds in results_dict['results_nls.json']\n",
    "}\n",
    "\n",
    "\n",
    "results_dict['results_idpa.json'] = results_idpa\n",
    "results_dict['results_cot.json'] = results_cot\n",
    "results_dict['results_cdr.json'] = results_cdr\n",
    "results_dict['results_nls.json'] = results_nls\n"
   ]
  },
  {
   "cell_type": "code",
   "execution_count": 16,
   "metadata": {},
   "outputs": [],
   "source": [
    "def combine_results_dict(results_dict_in, results_out):\n",
    "    \n",
    "    # results dict in should be of form: \n",
    "    # {dataset: {corruption_type: {run: {method: {epoch: metrics}}}}}\n",
    "\n",
    "    for dataset in results_dict_in:\n",
    "        if dataset not in results_out:\n",
    "            results_out[dataset] = {}\n",
    "\n",
    "        for corruption_type in results_dict_in[dataset]:\n",
    "            if corruption_type not in results_out[dataset]:\n",
    "                results_out[dataset][corruption_type] = {}\n",
    "\n",
    "            for run in results_dict_in[dataset][corruption_type]:\n",
    "                if run not in results_out[dataset][corruption_type]:\n",
    "                    results_out[dataset][corruption_type][run] = {}\n",
    "\n",
    "                for method in results_dict_in[dataset][corruption_type][run]:\n",
    "\n",
    "                    results_out[dataset][corruption_type][run][method] = [\n",
    "                        dict(epoch=int(epoch), **metrics) \n",
    "                        for epoch, metrics in results_dict_in[\n",
    "                            dataset\n",
    "                        ][corruption_type][run][method].items() \n",
    "                        if epoch != 'corrupt_sources'\n",
    "                    ]"
   ]
  },
  {
   "cell_type": "code",
   "execution_count": 17,
   "metadata": {},
   "outputs": [],
   "source": [
    "combined_results = {}\n",
    "\n",
    "for result in results_dict:\n",
    "    combine_results_dict(results_dict[result], combined_results)"
   ]
  },
  {
   "cell_type": "code",
   "execution_count": 18,
   "metadata": {},
   "outputs": [],
   "source": [
    "combined_results_df = []\n",
    "\n",
    "for dataset in combined_results:\n",
    "    for corruption_type in combined_results[dataset]:\n",
    "        for run in combined_results[dataset][corruption_type]:\n",
    "            for method in combined_results[dataset][corruption_type][run]:\n",
    "                combined_results_df.append(\n",
    "                    pd.json_normalize(\n",
    "                        combined_results[dataset][corruption_type][run][method]\n",
    "                    )\n",
    "                    .assign(\n",
    "                        dataset=dataset,\n",
    "                        corruption_type=corruption_type,\n",
    "                        run=run,\n",
    "                        method=method\n",
    "                    )\n",
    "                    .assign(epoch=lambda x: x['epoch']+1)\n",
    "                )\n",
    "\n",
    "combined_results_df = pd.concat(combined_results_df)\n",
    "combined_results_df = (\n",
    "    combined_results_df\n",
    "    .replace({\"method\": {\"true\": True, \"false\": False}})\n",
    "    .astype(\n",
    "        {\n",
    "            \"run\": \"int64\",\n",
    "        }\n",
    "    )\n",
    ")"
   ]
  },
  {
   "cell_type": "code",
   "execution_count": 19,
   "metadata": {},
   "outputs": [],
   "source": [
    "combined_results_df = combined_results_df.melt(\n",
    "    id_vars=['dataset', 'corruption_type', 'run', 'method', 'epoch'],\n",
    "    var_name='metric',\n",
    "    value_name='value'\n",
    ")"
   ]
  },
  {
   "cell_type": "code",
   "execution_count": 22,
   "metadata": {},
   "outputs": [
    {
     "data": {
      "text/html": [
       "<div>\n",
       "<style scoped>\n",
       "    .dataframe tbody tr th:only-of-type {\n",
       "        vertical-align: middle;\n",
       "    }\n",
       "\n",
       "    .dataframe tbody tr th {\n",
       "        vertical-align: top;\n",
       "    }\n",
       "\n",
       "    .dataframe thead th {\n",
       "        text-align: right;\n",
       "    }\n",
       "</style>\n",
       "<table border=\"1\" class=\"dataframe\">\n",
       "  <thead>\n",
       "    <tr style=\"text-align: right;\">\n",
       "      <th>LAP</th>\n",
       "      <th>Noise Type</th>\n",
       "      <th>Standard</th>\n",
       "      <th>IDPA</th>\n",
       "      <th>Co-teaching</th>\n",
       "      <th>CDR</th>\n",
       "      <th>Label Smoothing</th>\n",
       "      <th>LAP (Ours)</th>\n",
       "    </tr>\n",
       "  </thead>\n",
       "  <tbody>\n",
       "    <tr>\n",
       "      <th>0</th>\n",
       "      <td>Original Data</td>\n",
       "      <td>\\textbf{80.43 ± 0.05}</td>\n",
       "      <td>79.66 ± 0.21</td>\n",
       "      <td>79.7 ± 0.31</td>\n",
       "      <td>\\textbf{80.37 ± 0.1}</td>\n",
       "      <td>\\textbf{80.35 ± 0.07}</td>\n",
       "      <td>\\textbf{80.44 ± 0.15}</td>\n",
       "    </tr>\n",
       "    <tr>\n",
       "      <th>1</th>\n",
       "      <td>Random Label</td>\n",
       "      <td>76.96 ± 0.58</td>\n",
       "      <td>76.05 ± 0.84</td>\n",
       "      <td>77.05 ± 0.7</td>\n",
       "      <td>76.05 ± 0.31</td>\n",
       "      <td>76.02 ± 0.57</td>\n",
       "      <td>\\textbf{78.74 ± 0.41}</td>\n",
       "    </tr>\n",
       "  </tbody>\n",
       "</table>\n",
       "</div>"
      ],
      "text/plain": [
       "LAP     Noise Type               Standard          IDPA  Co-teaching  \\\n",
       "0    Original Data  \\textbf{80.43 ± 0.05}  79.66 ± 0.21  79.7 ± 0.31   \n",
       "1     Random Label           76.96 ± 0.58  76.05 ± 0.84  77.05 ± 0.7   \n",
       "\n",
       "LAP                   CDR        Label Smoothing             LAP (Ours)  \n",
       "0    \\textbf{80.37 ± 0.1}  \\textbf{80.35 ± 0.07}  \\textbf{80.44 ± 0.15}  \n",
       "1            76.05 ± 0.31           76.02 ± 0.57  \\textbf{78.74 ± 0.41}  "
      ]
     },
     "execution_count": 22,
     "metadata": {},
     "output_type": "execute_result"
    }
   ],
   "source": [
    "def bold_max_value_latex(x, model_names):\n",
    "    x = x.copy()\n",
    "    len_cols = x.shape[0]\n",
    "    n_models = len(model_names)\n",
    "    idx_bold = (\n",
    "        x\n",
    "        [-n_models:]\n",
    "        .str.replace(\" \", \"\")\n",
    "        .str.split(\"±\")\n",
    "        .str[0]\n",
    "        .astype(float)\n",
    "        .argmax()\n",
    "    )\n",
    "    max_val = x.iloc[idx_bold+len_cols-n_models]\n",
    "    max_val, max_std = map(float, max_val.split(\"±\"))\n",
    "\n",
    "    for i in range(len_cols-n_models, len_cols):\n",
    "        val = x.iloc[i]\n",
    "        val, std = map(float, val.split(\"±\"))\n",
    "        if val >= max_val - max_std and val <= max_val + max_std:\n",
    "            x.iloc[i] = '\\\\textbf{' + x.iloc[i] + '}'\n",
    "    \n",
    "    return x\n",
    "\n",
    "\n",
    "corruption_types = {\n",
    "    \"original\": \"Original Data\",\n",
    "    \"random_label\": \"Random Label\",\n",
    "}\n",
    "\n",
    "corruption_order = [\n",
    "    \"original\",\n",
    "    \"random_label\",\n",
    "]\n",
    "\n",
    "\n",
    "model_order = [\n",
    "    'Co-teaching',\n",
    "    'IDPA',\n",
    "    'CDR',\n",
    "    \"Label Smoothing\",\n",
    "    'Standard',\n",
    "    'LAP (Ours)',\n",
    "]\n",
    "\n",
    "combined_results_final_df = (\n",
    "    combined_results_df\n",
    "    .loc[lambda df: df.metric == 'test_top5acc']\n",
    "    .groupby([\"method\", 'corruption_type', \"run\"])\n",
    "    [['value']]\n",
    "    .max()\n",
    "    .assign(value = lambda x: x['value']*100)\n",
    "    .reset_index()\n",
    "    .groupby(['corruption_type', \"method\"])\n",
    "    ['value']\n",
    "    .agg(['mean', 'std'])\n",
    "    .assign(\n",
    "        mean_std = lambda x: \n",
    "            np.round(x['mean'], 2).astype(str) \n",
    "            + \" ± \"\n",
    "            + np.round(x['std'], 2).astype(str),\n",
    "    )\n",
    "    ['mean_std']\n",
    "    .to_frame()\n",
    "    .reset_index()\n",
    "    .rename(columns={\n",
    "        \"method\": \"LAP\", \n",
    "        'corruption_type': \"Noise Type\", \n",
    "        \"mean_std\": \"Top-5 Accuracy\"\n",
    "    })\n",
    "    .replace(\n",
    "        {\n",
    "            \"LAP\": {\n",
    "                False: \"Standard\",\n",
    "                True: \"LAP (Ours)\",\n",
    "                'cot': 'Co-teaching',\n",
    "                'idpa': 'IDPA',\n",
    "                'cdr': 'CDR',\n",
    "                'nls': 'Label Smoothing',\n",
    "            }\n",
    "        }\n",
    "    )\n",
    "    .pivot(\n",
    "        index=\"Noise Type\",\n",
    "        columns=\"LAP\",\n",
    "        values=\"Top-5 Accuracy\"\n",
    "    )\n",
    "    .reset_index()\n",
    "    [[\n",
    "        'Noise Type',  'Standard', 'IDPA', 'Co-teaching', 'CDR', 'Label Smoothing', 'LAP (Ours)',  \n",
    "    ]]\n",
    "    .loc[\n",
    "        lambda x: x['Noise Type'].isin(corruption_order)\n",
    "    ]\n",
    "    .sort_values(\n",
    "        \"Noise Type\", key=lambda x: x.map(corruption_order.index)\n",
    "    )\n",
    "    .replace(\n",
    "        {\n",
    "            \"Noise Type\": corruption_types\n",
    "        }\n",
    "    )\n",
    "    # makes bold with latex:\n",
    "    .apply(\n",
    "        bold_max_value_latex,\n",
    "        model_names = model_order,\n",
    "        axis=1\n",
    "    )\n",
    ")\n",
    "\n",
    "combined_results_final_df"
   ]
  },
  {
   "cell_type": "code",
   "execution_count": 23,
   "metadata": {},
   "outputs": [
    {
     "name": "stdout",
     "output_type": "stream",
     "text": [
      "\\begin{tabular}{lllllll}\n",
      "\\toprule\n",
      "Noise Type & Standard & IDPA & Co-teaching & CDR & Label Smoothing & LAP (Ours) \\\\\n",
      "\\midrule\n",
      "Original Data & \\textbf{80.43 ± 0.05} & 79.66 ± 0.21 & 79.7 ± 0.31 & \\textbf{80.37 ± 0.1} & \\textbf{80.35 ± 0.07} & \\textbf{80.44 ± 0.15} \\\\\n",
      "Random Label & 76.96 ± 0.58 & 76.05 ± 0.84 & 77.05 ± 0.7 & 76.05 ± 0.31 & 76.02 ± 0.57 & \\textbf{78.74 ± 0.41} \\\\\n",
      "\\bottomrule\n",
      "\\end{tabular}\n",
      "\n"
     ]
    }
   ],
   "source": [
    "print(\n",
    "    combined_results_final_df.to_latex(index=False)\n",
    ")"
   ]
  },
  {
   "cell_type": "code",
   "execution_count": null,
   "metadata": {},
   "outputs": [],
   "source": [
    "import torch\n",
    "from torchvision.datasets.utils import download_url\n",
    "from torchtext.data.utils import get_tokenizer\n",
    "from torchtext.vocab import build_vocab_from_iterator\n",
    "\n",
    "\n",
    "class GoEmotions(torch.utils.data.Dataset):\n",
    "    def __init__(\n",
    "        self,\n",
    "        root=\"./data/\",\n",
    "        max_length=512,\n",
    "    ):\n",
    "        self.root = root\n",
    "        self.max_length = max_length\n",
    "\n",
    "        if not os.path.exists(os.path.join(self.root, \"goemotions\")):\n",
    "            os.makedirs(os.path.join(self.root, \"goemotions\"))\n",
    "\n",
    "        files_exist = np.all(\n",
    "            [\n",
    "                os.path.exists(\n",
    "                    os.path.join(self.root, \"goemotions\", f\"goemotions_{i}.csv\")\n",
    "                )\n",
    "                for i in range(1, 4)\n",
    "            ]\n",
    "        )\n",
    "\n",
    "        if not files_exist:\n",
    "            download_url(\n",
    "                \"https://storage.googleapis.com/gresearch/goemotions/data/full_dataset/goemotions_1.csv\",\n",
    "                os.path.join(self.root, \"goemotions\"),\n",
    "            )\n",
    "            download_url(\n",
    "                \"https://storage.googleapis.com/gresearch/goemotions/data/full_dataset/goemotions_2.csv\",\n",
    "                os.path.join(self.root, \"goemotions\"),\n",
    "            )\n",
    "            download_url(\n",
    "                \"https://storage.googleapis.com/gresearch/goemotions/data/full_dataset/goemotions_3.csv\",\n",
    "                os.path.join(self.root, \"goemotions\"),\n",
    "            )\n",
    "\n",
    "        self.data = pd.concat(\n",
    "            [\n",
    "                pd.read_csv(\n",
    "                    os.path.join(self.root, \"goemotions\", f\"goemotions_{i}.csv\")\n",
    "                )\n",
    "                for i in range(1, 4)\n",
    "            ]\n",
    "        )\n",
    "\n",
    "        self.y_unique = [\n",
    "            \"admiration\",\n",
    "            \"amusement\",\n",
    "            \"anger\",\n",
    "            \"annoyance\",\n",
    "            \"approval\",\n",
    "            \"caring\",\n",
    "            \"confusion\",\n",
    "            \"curiosity\",\n",
    "            \"desire\",\n",
    "            \"disappointment\",\n",
    "            \"disapproval\",\n",
    "            \"disgust\",\n",
    "            \"embarrassment\",\n",
    "            \"excitement\",\n",
    "            \"fear\",\n",
    "            \"gratitude\",\n",
    "            \"grief\",\n",
    "            \"joy\",\n",
    "            \"love\",\n",
    "            \"nervousness\",\n",
    "            \"optimism\",\n",
    "            \"pride\",\n",
    "            \"realization\",\n",
    "            \"relief\",\n",
    "            \"remorse\",\n",
    "            \"sadness\",\n",
    "            \"surprise\",\n",
    "            \"neutral\",\n",
    "        ]\n",
    "\n",
    "        X = self.data[\"text\"].values\n",
    "        y = self.data[self.y_unique].values\n",
    "        sources = self.data[\"rater_id\"].values\n",
    "\n",
    "        rows_with_no_labels = y.sum(axis=1) == 0\n",
    "        X = X[~rows_with_no_labels]\n",
    "        y = y[~rows_with_no_labels]\n",
    "        sources = sources[~rows_with_no_labels]\n",
    "\n",
    "        rows_with_too_many_labels = y.sum(axis=1) > 1\n",
    "        X = X[~rows_with_too_many_labels]\n",
    "        y = y[~rows_with_too_many_labels]\n",
    "        sources = sources[~rows_with_too_many_labels]\n",
    "\n",
    "        y = np.argmax(y, axis=1)\n",
    "\n",
    "        self.inputs = X\n",
    "        self.targets = y\n",
    "        self.sources = sources\n",
    "\n",
    "        tokeniser = get_tokenizer(\"basic_english\")\n",
    "        vocab = build_vocab_from_iterator(\n",
    "            map(tokeniser, X),\n",
    "            specials=[\"<pad>\", \"<unk>\"],\n",
    "        )\n",
    "        vocab.set_default_index(vocab[\"<unk>\"])\n",
    "\n",
    "        self.tokeniser = tokeniser\n",
    "        self.vocab = vocab\n",
    "\n",
    "    def __len__(self):\n",
    "        return len(self.inputs)\n",
    "\n",
    "    def __getitem__(self, idx):\n",
    "        text = self.inputs[idx]\n",
    "\n",
    "        text_tensor = (\n",
    "            torch.zeros(self.max_length, dtype=torch.long) * self.vocab[\"<pad>\"]\n",
    "        )\n",
    "        text_split = self.tokeniser(text)[: self.max_length]\n",
    "        text_tokens = [\n",
    "            torch.tensor(self.vocab(self.tokeniser(item)), dtype=torch.long)\n",
    "            for item in text_split\n",
    "        ]\n",
    "        text_tensor_raw = torch.cat(tuple(filter(lambda t: t.numel() > 0, text_tokens)))\n",
    "        text_tensor[: text_tensor_raw.size(0)] = text_tensor_raw\n",
    "\n",
    "        label = self.targets[idx]\n",
    "        source = self.sources[idx]\n",
    "\n",
    "        return (\n",
    "            text_tensor,\n",
    "            label,\n",
    "            source,\n",
    "        )"
   ]
  },
  {
   "cell_type": "code",
   "execution_count": 13,
   "metadata": {},
   "outputs": [
    {
     "name": "stdout",
     "output_type": "stream",
     "text": [
      "Downloading https://storage.googleapis.com/gresearch/goemotions/data/full_dataset/goemotions_1.csv to ./data/goemotions\\goemotions_1.csv\n"
     ]
    },
    {
     "name": "stderr",
     "output_type": "stream",
     "text": [
      "100%|██████████| 14174600/14174600 [00:02<00:00, 4967311.29it/s]\n"
     ]
    },
    {
     "name": "stdout",
     "output_type": "stream",
     "text": [
      "Downloading https://storage.googleapis.com/gresearch/goemotions/data/full_dataset/goemotions_2.csv to ./data/goemotions\\goemotions_2.csv\n"
     ]
    },
    {
     "name": "stderr",
     "output_type": "stream",
     "text": [
      "100%|██████████| 14173154/14173154 [00:03<00:00, 4179269.64it/s]\n"
     ]
    },
    {
     "name": "stdout",
     "output_type": "stream",
     "text": [
      "Downloading https://storage.googleapis.com/gresearch/goemotions/data/full_dataset/goemotions_3.csv to ./data/goemotions\\goemotions_3.csv\n"
     ]
    },
    {
     "name": "stderr",
     "output_type": "stream",
     "text": [
      "100%|██████████| 14395164/14395164 [00:02<00:00, 4970265.67it/s]\n"
     ]
    }
   ],
   "source": [
    "dataset = GoEmotions(\n",
    "    root=\"./data/\",\n",
    "    max_length=128,\n",
    ")\n",
    "\n",
    "train_dataset, test_dataset = torch.utils.data.random_split(\n",
    "    dataset,\n",
    "    [int(0.8 * len(dataset)), len(dataset) - int(0.8 * len(dataset))],\n",
    "    generator=torch.Generator().manual_seed(42),\n",
    ")\n",
    "train_idx = train_dataset.indices\n",
    "test_idx = test_dataset.indices"
   ]
  },
  {
   "cell_type": "code",
   "execution_count": 14,
   "metadata": {},
   "outputs": [
    {
     "data": {
      "text/plain": [
       "array([27,  3, 15, ...,  4, 27,  2], dtype=int64)"
      ]
     },
     "execution_count": 14,
     "metadata": {},
     "output_type": "execute_result"
    }
   ],
   "source": [
    "dataset.sources[train_dataset.indices]\n",
    "dataset.targets[train_dataset.indices]"
   ]
  },
  {
   "cell_type": "code",
   "execution_count": 15,
   "metadata": {},
   "outputs": [
    {
     "data": {
      "text/plain": [
       "(array([ 0,  1,  2,  3,  4,  5,  6,  7,  8,  9, 10, 11, 12, 13, 14, 15, 16,\n",
       "        17, 18, 19, 20, 21, 22, 23, 24, 25, 26, 27, 28, 29, 30, 31, 32, 33,\n",
       "        34, 35, 36, 37, 38, 39, 40, 41, 42, 43, 44, 45, 46, 47, 48, 49, 50,\n",
       "        51, 52, 53, 54, 55, 56, 57, 58, 59, 60, 61, 62, 63, 64, 65, 66, 67,\n",
       "        68, 69, 70, 71, 72, 73, 74, 75, 76, 77, 78, 79, 80, 81],\n",
       "       dtype=int64),\n",
       " array([  30,  912, 3942, 2203, 7479, 2211, 3147,  982, 1509,  301,  729,\n",
       "        1499, 1944,  133,  451, 2582, 2302,   98, 2194, 1339, 2882, 2072,\n",
       "        1268, 3136, 4121,  256, 3500, 3623,  621,  193, 1021,  143,  368,\n",
       "        3379, 1372, 3156, 1753, 3647, 1085, 2115, 3167, 1807, 1365,  305,\n",
       "          74,   41, 3479,    4,  222, 2616, 1415, 3634, 3883,   44,  381,\n",
       "        3199, 1666, 2065,  114,  304, 4085, 4134, 3257,  501,   98,   87,\n",
       "        1146, 2773,    1,   85, 3712,   96, 1913,  683, 1227,  298, 1872,\n",
       "         614, 1309,  225,   59, 3798], dtype=int64))"
      ]
     },
     "execution_count": 15,
     "metadata": {},
     "output_type": "execute_result"
    }
   ],
   "source": [
    "np.unique(dataset.sources[train_dataset.indices], return_counts=True)"
   ]
  },
  {
   "cell_type": "code",
   "execution_count": 16,
   "metadata": {},
   "outputs": [],
   "source": [
    "_, source_sizes = np.unique(dataset.sources[train_dataset.indices], return_counts=True)"
   ]
  },
  {
   "cell_type": "code",
   "execution_count": 17,
   "metadata": {},
   "outputs": [
    {
     "data": {
      "text/plain": [
       "(1676.2926829268292, 1477.1129181187503, 1, 7479)"
      ]
     },
     "execution_count": 17,
     "metadata": {},
     "output_type": "execute_result"
    }
   ],
   "source": [
    "source_sizes.mean(), source_sizes.std(), source_sizes.min(), source_sizes.max()"
   ]
  },
  {
   "cell_type": "code",
   "execution_count": 18,
   "metadata": {},
   "outputs": [
    {
     "data": {
      "text/plain": [
       "array([  30,  912, 3942, 2203, 7479, 2211, 3147,  982, 1509,  301,  729,\n",
       "       1499, 1944,  133,  451, 2582, 2302,   98, 2194, 1339, 2882, 2072,\n",
       "       1268, 3136, 4121,  256, 3500, 3623,  621,  193, 1021,  143,  368,\n",
       "       3379, 1372, 3156, 1753, 3647, 1085, 2115, 3167, 1807, 1365,  305,\n",
       "         74,   41, 3479,    4,  222, 2616, 1415, 3634, 3883,   44,  381,\n",
       "       3199, 1666, 2065,  114,  304, 4085, 4134, 3257,  501,   98,   87,\n",
       "       1146, 2773,    1,   85, 3712,   96, 1913,  683, 1227,  298, 1872,\n",
       "        614, 1309,  225,   59, 3798], dtype=int64)"
      ]
     },
     "execution_count": 18,
     "metadata": {},
     "output_type": "execute_result"
    }
   ],
   "source": [
    "source_sizes"
   ]
  },
  {
   "cell_type": "code",
   "execution_count": 19,
   "metadata": {},
   "outputs": [
    {
     "data": {
      "image/png": "[encoded data removed]",
      "text/plain": [
       "<Figure size 422.717x211.358 with 1 Axes>"
      ]
     },
     "metadata": {},
     "output_type": "display_data"
    }
   ],
   "source": [
    "with plotting.paper_theme():\n",
    "    plt.close()\n",
    "\n",
    "    bar_colour = \"xkcd:pale purple\"\n",
    "    line_colour = \"xkcd:dark grey\"\n",
    "\n",
    "    fig, ax = plt.subplots(figsize=(colwidth, 0.5*colwidth))\n",
    "\n",
    "    n_bins = 20\n",
    "\n",
    "    logbins = np.geomspace(source_sizes.min(), source_sizes.max(), n_bins)\n",
    "\n",
    "    ax.hist(\n",
    "        source_sizes,\n",
    "        color=bar_colour,\n",
    "        bins=logbins,\n",
    "        edgecolor=line_colour,\n",
    "        linewidth=0.75,\n",
    "    )\n",
    "\n",
    "    ax.text(\n",
    "        0.05,\n",
    "        0.95,\n",
    "        f\"Total \\# Sources: {len(source_sizes)}\",\n",
    "        fontsize=8,\n",
    "        ha=\"left\",\n",
    "        va=\"top\",\n",
    "        transform=ax.transAxes,\n",
    "        # nice box\n",
    "        bbox=dict(facecolor=\"white\", edgecolor=\"xkcd:grey\"),\n",
    "    )\n",
    "\n",
    "    ax.set_xscale(\"log\")\n",
    "\n",
    "    ax.set_xlabel(\"Number of Data Points in a Source\")\n",
    "    ax.set_ylabel(\"Number of Sources\")\n",
    "\n",
    "    ax.set_ylim(0, 22.5)\n",
    "\n",
    "    fig.subplots_adjust(top=0.98, bottom=0.2, left=0.1085, right=0.99)\n",
    "\n",
    "    fig.savefig(output_path + \"goemotions_source_sizes.pdf\")\n",
    "\n",
    "    plt.show()"
   ]
  },
  {
   "cell_type": "code",
   "execution_count": 20,
   "metadata": {},
   "outputs": [],
   "source": [
    "source_labels = (\n",
    "    pd.get_dummies(dataset.targets[train_dataset.indices])\n",
    "    .assign(source=dataset.sources[train_dataset.indices])\n",
    "    .groupby(\"source\")\n",
    "    .apply(lambda x: x.sum() / x.shape[0])\n",
    "    .drop(columns=\"source\")\n",
    ")\n",
    "\n",
    "\n",
    "# get columns with the three largest values in each row\n",
    "source_frequent_labels = source_labels.apply(lambda x: x.nlargest(3).index.tolist(), axis=1)\n",
    "\n",
    "# get the three largest values in each row\n",
    "source_frequent_labels_size = source_labels.apply(lambda x: x.nlargest(3).values.tolist(), axis=1)"
   ]
  },
  {
   "cell_type": "code",
   "execution_count": 21,
   "metadata": {},
   "outputs": [
    {
     "data": {
      "text/plain": [
       "source\n",
       "0     [27, 18, 1]\n",
       "1     [27, 18, 1]\n",
       "2      [27, 0, 3]\n",
       "3     [4, 27, 10]\n",
       "4      [27, 4, 3]\n",
       "         ...     \n",
       "77     [27, 3, 1]\n",
       "78     [27, 3, 0]\n",
       "79     [22, 4, 0]\n",
       "80     [27, 7, 0]\n",
       "81     [27, 0, 6]\n",
       "Length: 82, dtype: object"
      ]
     },
     "execution_count": 21,
     "metadata": {},
     "output_type": "execute_result"
    }
   ],
   "source": [
    "source_frequent_labels"
   ]
  },
  {
   "cell_type": "code",
   "execution_count": 22,
   "metadata": {},
   "outputs": [
    {
     "data": {
      "text/plain": [
       "source\n",
       "0                       [0.4, 0.1, 0.06666666666666667]\n",
       "1      [0.375, 0.11074561403508772, 0.0581140350877193]\n",
       "2     [0.2387113140537798, 0.06265854895991882, 0.05...\n",
       "3     [0.18565592374035406, 0.10848842487517023, 0.0...\n",
       "4     [0.2865356331060302, 0.10736729509292686, 0.06...\n",
       "                            ...                        \n",
       "77    [0.20846905537459284, 0.19055374592833876, 0.0...\n",
       "78    [0.29640947288006114, 0.09167303284950344, 0.0...\n",
       "79    [0.18222222222222223, 0.17333333333333334, 0.1...\n",
       "80    [0.2033898305084746, 0.11864406779661017, 0.08...\n",
       "81    [0.3543970510795155, 0.10294892048446551, 0.07...\n",
       "Length: 82, dtype: object"
      ]
     },
     "execution_count": 22,
     "metadata": {},
     "output_type": "execute_result"
    }
   ],
   "source": [
    "source_frequent_labels_size"
   ]
  },
  {
   "cell_type": "code",
   "execution_count": 23,
   "metadata": {},
   "outputs": [
    {
     "name": "stdout",
     "output_type": "stream",
     "text": [
      "6.13%, 3.57%, 3.03%, 4.86%, 6.55%, 2.05%, 2.87%, 3.43%, 1.25%, 2.74%, 4.47%, 1.7%, 0.83%, 1.76%, 1.03%, 4.12%, 0.2%, 2.52%, 2.88%, 0.46%, 2.63%, 0.4%, 2.74%, 0.46%, 0.88%, 2.23%, 2.02%, 32.18\n"
     ]
    }
   ],
   "source": [
    "print(\n",
    "    *(np.unique(dataset.targets, return_counts=True)[1]/len(dataset)*100).round(2), \n",
    "    sep=\"%, \"\n",
    ")"
   ]
  },
  {
   "cell_type": "code",
   "execution_count": 24,
   "metadata": {},
   "outputs": [
    {
     "name": "stdout",
     "output_type": "stream",
     "text": [
      "mean 2095.37\n",
      "std 1847.92\n"
     ]
    }
   ],
   "source": [
    "source_sizes = np.unique(dataset.sources, return_counts=True)[1]\n",
    "print(\"mean\", source_sizes.mean().round(2))\n",
    "print(\"std\", source_sizes.std().round(2))"
   ]
  },
  {
   "cell_type": "code",
   "execution_count": 25,
   "metadata": {},
   "outputs": [
    {
     "data": {
      "text/plain": [
       "array([ 6.12908858,  3.56768711,  3.02758701,  4.8550809 ,  6.5527878 ,\n",
       "        2.05040158,  2.87393784,  3.42509603,  1.2495635 ,  2.73891282,\n",
       "        4.473286  ,  1.69596089,  0.83401234,  1.75765336,  1.03480386,\n",
       "        4.11768129,  0.20428355,  2.51949715,  2.88499593,  0.46327552,\n",
       "        2.63007799,  0.40158305,  2.74356885,  0.45861949,  0.87882668,\n",
       "        2.22733093,  2.02071936, 32.1836806 ])"
      ]
     },
     "execution_count": 25,
     "metadata": {},
     "output_type": "execute_result"
    }
   ],
   "source": [
    "np.unique(\n",
    "    dataset.targets, \n",
    "    return_counts=True\n",
    ")[1]/len(dataset)*100"
   ]
  },
  {
   "cell_type": "code",
   "execution_count": 26,
   "metadata": {},
   "outputs": [
    {
     "name": "stdout",
     "output_type": "stream",
     "text": [
      "\\item Source 1 with size \\num{37}: class 28 = $40.54\\%$, class 19 = $8.11\\%$, class 26 = $5.41\\%$\n",
      "\\item Source 2 with size \\num{1137}: class 28 = $38.43\\%$, class 19 = $10.82\\%$, class 2 = $5.89\\%$\n",
      "\\item Source 4 with size \\num{2702}: class 5 = $17.84\\%$, class 28 = $11.84\\%$, class 11 = $8.62\\%$\n",
      "\\item Source 8 with size \\num{1253}: class 28 = $14.45\\%$, class 23 = $12.05\\%$, class 21 = $10.45\\%$\n",
      "\\item Source 16 with size \\num{3224}: class 5 = $13.43\\%$, class 23 = $12.38\\%$, class 1 = $10.92\\%$\n",
      "\\item Source 32 with size \\num{175}: class 28 = $50.86\\%$, class 8 = $18.86\\%$, class 2 = $6.86\\%$\n",
      "\\item Source 64 with size \\num{623}: class 28 = $18.46\\%$, class 4 = $11.88\\%$, class 5 = $6.58\\%$\n"
     ]
    }
   ],
   "source": [
    "# what proportion of the data from each source is from each class\n",
    "\n",
    "source_class_unique_number = []\n",
    "\n",
    "for s in np.unique(dataset.sources):\n",
    "\n",
    "\n",
    "\n",
    "    classes, class_sizes = np.unique(\n",
    "            dataset.targets[dataset.sources == s], \n",
    "            return_counts=True\n",
    "        )\n",
    "    class_proportion = class_sizes / class_sizes.sum()\n",
    "\n",
    "    source_size = class_sizes.sum()\n",
    "\n",
    "    class_size_order = np.argsort(class_sizes)[::-1]\n",
    "    classes = classes[class_size_order]\n",
    "    class_sizes = class_sizes[class_size_order]\n",
    "    class_proportion = class_proportion[class_size_order]\n",
    "\n",
    "    source_class_unique_number.append(len(classes))\n",
    "\n",
    "    classes_show = classes[:3]\n",
    "\n",
    "    if s+1 in [1, 2, 4, 8, 16, 32, 64, 128]:\n",
    "\n",
    "        print(\n",
    "            f\"\\item Source {int(s)+1} \" + \"with size \\\\num{\" f\"{int(source_size)}\" + \"}:\", \n",
    "            \", \".join([\n",
    "                f'class {c+1} = ${s*100:.2f}\\%$' \n",
    "                for c, s in zip(classes_show, class_proportion)\n",
    "            ])\n",
    "        )"
   ]
  },
  {
   "cell_type": "code",
   "execution_count": 27,
   "metadata": {},
   "outputs": [
    {
     "data": {
      "image/png": "[encoded data removed]",
      "text/plain": [
       "<Figure size 422.717x211.358 with 1 Axes>"
      ]
     },
     "metadata": {},
     "output_type": "display_data"
    }
   ],
   "source": [
    "with plotting.paper_theme():\n",
    "    plt.close()\n",
    "\n",
    "    fig, ax = plt.subplots(figsize=(colwidth, 0.5*colwidth))\n",
    "\n",
    "    bar_colour = \"xkcd:light blue\"\n",
    "    line_colour = \"xkcd:dark grey\"\n",
    "\n",
    "    ax = sns.histplot(\n",
    "        source_class_unique_number,\n",
    "        color=bar_colour,\n",
    "        discrete=True,\n",
    "        edgecolor=line_colour,\n",
    "        linewidth=0.75,\n",
    "        ax=ax,\n",
    "    )\n",
    "\n",
    "    ax.text(\n",
    "        0.05,\n",
    "        0.95,\n",
    "        f\"Total \\# Sources: {len(source_sizes)}\\nTotal \\# Classes: {len(np.unique(dataset.targets))}\",\n",
    "        fontsize=8,\n",
    "        ha=\"left\",\n",
    "        va=\"top\",\n",
    "        transform=ax.transAxes,\n",
    "        # nice box\n",
    "        bbox=dict(facecolor=\"white\", edgecolor=\"xkcd:grey\"),\n",
    "    )\n",
    "\n",
    "    ax.set_xlabel(\"Number of Unique Classes in a Source\")\n",
    "    ax.set_ylabel(\"Number of Sources\")\n",
    "\n",
    "    ax.set_ylim(0, 45)\n",
    "\n",
    "    fig.subplots_adjust(top=0.98, bottom=0.2, left=0.1085, right=0.99)\n",
    "\n",
    "    fig.savefig(output_path + \"goemotions_source_class_unique_number.pdf\")\n",
    "\n",
    "    plt.show()"
   ]
  }
 ],
 "metadata": {
  "kernelspec": {
   "display_name": "lap",
   "language": "python",
   "name": "python3"
  },
  "language_info": {
   "codemirror_mode": {
    "name": "ipython",
    "version": 3
   },
   "file_extension": ".py",
   "mimetype": "text/x-python",
   "name": "python",
   "nbconvert_exporter": "python",
   "pygments_lexer": "ipython3",
   "version": "3.11.5"
  }
 },
 "nbformat": 4,
 "nbformat_minor": 4
}
