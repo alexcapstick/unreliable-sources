{
 "cells": [
  {
   "cell_type": "markdown",
   "metadata": {},
   "source": [
    "# How does LAP scale with the number of sources?"
   ]
  },
  {
   "cell_type": "code",
   "execution_count": 1,
   "metadata": {},
   "outputs": [],
   "source": [
    "import torch\n",
    "import torch.nn as nn\n",
    "\n",
    "from loss_adapted_plasticity import SourceLossWeighting"
   ]
  },
  {
   "cell_type": "code",
   "execution_count": 2,
   "metadata": {},
   "outputs": [],
   "source": [
    "device = \"cpu\""
   ]
  },
  {
   "cell_type": "code",
   "execution_count": 3,
   "metadata": {},
   "outputs": [],
   "source": [
    "class MLP(nn.Module):\n",
    "    def __init__(self, in_shape, out_shape):\n",
    "        super().__init__()\n",
    "        \n",
    "        self.net = nn.Sequential(\n",
    "            nn.Linear(in_shape, 100*in_shape),\n",
    "            nn.ReLU(),\n",
    "            nn.Linear(100*in_shape, 100*in_shape),\n",
    "            nn.ReLU(),\n",
    "            nn.Linear(100*in_shape, out_shape),\n",
    "        )\n",
    "        self.criterion = nn.CrossEntropyLoss(reduction=\"none\")\n",
    "\n",
    "    def forward(self, x, y=None, return_loss=False):\n",
    "        out = self.net(x)\n",
    "        if return_loss:\n",
    "            loss = self.criterion(out, y)\n",
    "            return loss, out\n",
    "        return out"
   ]
  },
  {
   "cell_type": "code",
   "execution_count": 4,
   "metadata": {},
   "outputs": [],
   "source": [
    "n_features = 20\n",
    "batch_size = 2048\n",
    "n_classes = 5\n",
    "n_sources = 10"
   ]
  },
  {
   "cell_type": "code",
   "execution_count": 5,
   "metadata": {},
   "outputs": [],
   "source": [
    "history_length = 25\n",
    "depression_strength = 1.0\n",
    "leniency = 1.0\n",
    "\n",
    "mlp = MLP(n_features, n_classes)\n",
    "mlp.to(device)\n",
    "\n",
    "optimiser = torch.optim.Adam(\n",
    "    params=mlp.parameters(),\n",
    "    lr=0.01,\n",
    "    weight_decay=0.0001\n",
    ")\n",
    "\n",
    "source_loss_weighting = SourceLossWeighting(\n",
    "    history_length=history_length,\n",
    "    warmup_iters=100,\n",
    "    depression_strength=depression_strength,\n",
    "    discrete_amount=0.005,\n",
    "    leniency=leniency,\n",
    "    device=device\n",
    ")"
   ]
  },
  {
   "cell_type": "code",
   "execution_count": 6,
   "metadata": {},
   "outputs": [],
   "source": [
    "x, y, sources = (\n",
    "    torch.randn(batch_size, n_features),\n",
    "    torch.randint(0, n_classes, (batch_size,)),\n",
    "    torch.randint(0, n_sources, (batch_size,))\n",
    ")\n",
    "\n",
    "x, y, sources = x.to(device), y.to(device), sources.to(device)"
   ]
  },
  {
   "cell_type": "code",
   "execution_count": 7,
   "metadata": {},
   "outputs": [],
   "source": [
    "label_loss, outputs = mlp(x, y, return_loss=True)"
   ]
  },
  {
   "cell_type": "code",
   "execution_count": 8,
   "metadata": {},
   "outputs": [],
   "source": [
    "# creating full loss history for fair comparison\n",
    "\n",
    "for i in range(1000):\n",
    "    label_loss = source_loss_weighting(\n",
    "        losses=label_loss, sources=sources,\n",
    "    )"
   ]
  },
  {
   "cell_type": "code",
   "execution_count": 9,
   "metadata": {},
   "outputs": [
    {
     "name": "stdout",
     "output_type": "stream",
     "text": [
      "449 μs ± 5.81 μs per loop (mean ± std. dev. of 7 runs, 1,000 loops each)\n"
     ]
    }
   ],
   "source": [
    "%timeit source_loss_weighting(losses=label_loss, sources=sources)"
   ]
  },
  {
   "cell_type": "code",
   "execution_count": 10,
   "metadata": {},
   "outputs": [
    {
     "name": "stdout",
     "output_type": "stream",
     "text": [
      "13.3 ms ± 133 μs per loop (mean ± std. dev. of 7 runs, 100 loops each)\n"
     ]
    }
   ],
   "source": [
    "%timeit mlp(x, y, return_loss=True)"
   ]
  },
  {
   "cell_type": "code",
   "execution_count": 11,
   "metadata": {},
   "outputs": [
    {
     "name": "stdout",
     "output_type": "stream",
     "text": [
      "42 ms ± 1.45 ms per loop (mean ± std. dev. of 7 runs, 10 loops each)\n"
     ]
    }
   ],
   "source": [
    "%%timeit \n",
    "optimiser.zero_grad()\n",
    "label_loss, _ = mlp(x, y, return_loss=True)\n",
    "label_loss.mean().backward()\n",
    "optimiser.step()"
   ]
  },
  {
   "cell_type": "code",
   "execution_count": 12,
   "metadata": {},
   "outputs": [
    {
     "name": "stdout",
     "output_type": "stream",
     "text": [
      "42.1 ms ± 191 μs per loop (mean ± std. dev. of 7 runs, 10 loops each)\n"
     ]
    }
   ],
   "source": [
    "%%timeit \n",
    "optimiser.zero_grad()\n",
    "label_loss, _ = mlp(x, y, return_loss=True)\n",
    "label_loss = source_loss_weighting(losses=label_loss, sources=sources)\n",
    "label_loss.mean().backward()\n",
    "optimiser.step()"
   ]
  }
 ],
 "metadata": {
  "kernelspec": {
   "display_name": "lap",
   "language": "python",
   "name": "python3"
  },
  "language_info": {
   "codemirror_mode": {
    "name": "ipython",
    "version": 3
   },
   "file_extension": ".py",
   "mimetype": "text/x-python",
   "name": "python",
   "nbconvert_exporter": "python",
   "pygments_lexer": "ipython3",
   "version": "3.11.5"
  }
 },
 "nbformat": 4,
 "nbformat_minor": 2
}
