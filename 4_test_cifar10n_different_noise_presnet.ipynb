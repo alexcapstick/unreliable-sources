{
 "cells": [
  {
   "cell_type": "markdown",
   "metadata": {},
   "source": [
    "# Testing CIFAR10N data with LAP and RRL:"
   ]
  },
  {
   "cell_type": "code",
   "execution_count": 1,
   "metadata": {},
   "outputs": [],
   "source": [
    "output_path = './outputs/graphs/'\n",
    "results_path = './outputs/cifar_10n_different_noise_results/'"
   ]
  },
  {
   "cell_type": "code",
   "execution_count": 2,
   "metadata": {},
   "outputs": [],
   "source": [
    "import json\n",
    "import pandas as pd\n",
    "import numpy as np\n",
    "import seaborn as sns\n",
    "import matplotlib.pyplot as plt\n",
    "import matplotlib as mpl\n",
    "import os\n",
    "import graph_code.graphing_utils as plotting"
   ]
  },
  {
   "cell_type": "code",
   "execution_count": 3,
   "metadata": {},
   "outputs": [],
   "source": [
    "colwidth = 4.22716535\n",
    "pagewidth = 8.7598425"
   ]
  },
  {
   "cell_type": "code",
   "execution_count": 4,
   "metadata": {},
   "outputs": [],
   "source": [
    "results_list = []\n",
    "corruption_levels = []\n",
    "for file in [\n",
    "    f for f in os.listdir(results_path) if f.endswith(\"json\")\n",
    "]:\n",
    "    with open(results_path + file) as f:\n",
    "        results_temp = json.load(f)\n",
    "    results_list.append(results_temp)\n",
    "    corruption_level = float(file.split(\".json\")[0].split(\"_\")[-2])\n",
    "    corruption_levels.append(corruption_level)"
   ]
  },
  {
   "cell_type": "code",
   "execution_count": 5,
   "metadata": {},
   "outputs": [],
   "source": [
    "results = {}\n",
    "\n",
    "for results_dict, c_level in zip(results_list, corruption_levels):\n",
    "    if c_level not in results:\n",
    "        results[c_level] = {}\n",
    "    \n",
    "    for dataset in results_dict:\n",
    "        if dataset not in results[c_level]:\n",
    "            results[c_level][dataset] = {}\n",
    "       \n",
    "        for nc in results_dict[dataset]:\n",
    "            if nc not in results[c_level][dataset]:\n",
    "                results[c_level][dataset][nc] = {}\n",
    "            \n",
    "            for run in results_dict[dataset][nc]:\n",
    "                if run not in results[c_level][dataset][nc]:\n",
    "                    results[c_level][dataset][nc][run] = {}\n",
    "\n",
    "                for depression in results_dict[dataset][nc][run]:\n",
    "\n",
    "                    results[c_level][dataset][nc][run][depression] = [\n",
    "                        dict(epoch=int(epoch), **metrics) \n",
    "                        for epoch, metrics in results_dict[dataset][nc][run][depression].items() \n",
    "                        if epoch != 'corrupt_sources'\n",
    "                    ]"
   ]
  },
  {
   "cell_type": "code",
   "execution_count": 6,
   "metadata": {},
   "outputs": [],
   "source": [
    "results_df = []\n",
    "\n",
    "for c_level in results:\n",
    "    for dataset in results[c_level]:\n",
    "        for nc in results[c_level][dataset]:\n",
    "            for run in results[c_level][dataset][nc]:\n",
    "                for depression in results[c_level][dataset][nc][run]:\n",
    "                    results_df.append(\n",
    "                        pd.json_normalize(\n",
    "                            results[c_level][dataset][nc][run][depression]\n",
    "                        )\n",
    "                        .assign(\n",
    "                            dataset=dataset,\n",
    "                            n_corrupt_sources=nc,\n",
    "                            run=run,\n",
    "                            corruption_level=c_level,\n",
    "                            depression=depression\n",
    "                        )\n",
    "                        .assign(epoch=lambda x: x['epoch']+1)\n",
    "                    )\n",
    "results_df = pd.concat(results_df)\n",
    "results_df = (\n",
    "    results_df\n",
    "    .replace({\"depression\": {\"true\": True, \"false\": False}})\n",
    "    .astype(\n",
    "        {\n",
    "            \"n_corrupt_sources\": \"int64\",\n",
    "            \"run\": \"int64\",\n",
    "            \"depression\": \"bool\",\n",
    "        }\n",
    "    )\n",
    "    .loc[\n",
    "        lambda df: df[\"n_corrupt_sources\"] <= 8\n",
    "    ]\n",
    ")"
   ]
  },
  {
   "cell_type": "code",
   "execution_count": 7,
   "metadata": {},
   "outputs": [],
   "source": [
    "results_df = results_df.melt(\n",
    "    id_vars=['dataset', 'n_corrupt_sources', 'run', 'depression', 'epoch'],\n",
    "    var_name='metric',\n",
    "    value_name='value'\n",
    ")"
   ]
  },
  {
   "cell_type": "code",
   "execution_count": 8,
   "metadata": {},
   "outputs": [
    {
     "data": {
      "text/html": [
       "<div>\n",
       "<style scoped>\n",
       "    .dataframe tbody tr th:only-of-type {\n",
       "        vertical-align: middle;\n",
       "    }\n",
       "\n",
       "    .dataframe tbody tr th {\n",
       "        vertical-align: top;\n",
       "    }\n",
       "\n",
       "    .dataframe thead th {\n",
       "        text-align: right;\n",
       "    }\n",
       "</style>\n",
       "<table border=\"1\" class=\"dataframe\">\n",
       "  <thead>\n",
       "    <tr style=\"text-align: right;\">\n",
       "      <th></th>\n",
       "      <th>False</th>\n",
       "      <th>True</th>\n",
       "    </tr>\n",
       "    <tr>\n",
       "      <th>n_corrupt_sources</th>\n",
       "      <th></th>\n",
       "      <th></th>\n",
       "    </tr>\n",
       "  </thead>\n",
       "  <tbody>\n",
       "    <tr>\n",
       "      <th>2</th>\n",
       "      <td>0.852 ± 0.005</td>\n",
       "      <td>0.878 ± 0.003</td>\n",
       "    </tr>\n",
       "    <tr>\n",
       "      <th>3</th>\n",
       "      <td>0.835 ± 0.005</td>\n",
       "      <td>0.863 ± 0.002</td>\n",
       "    </tr>\n",
       "    <tr>\n",
       "      <th>4</th>\n",
       "      <td>0.816 ± 0.009</td>\n",
       "      <td>0.845 ± 0.003</td>\n",
       "    </tr>\n",
       "    <tr>\n",
       "      <th>5</th>\n",
       "      <td>0.793 ± 0.009</td>\n",
       "      <td>0.822 ± 0.004</td>\n",
       "    </tr>\n",
       "    <tr>\n",
       "      <th>6</th>\n",
       "      <td>0.771 ± 0.009</td>\n",
       "      <td>0.804 ± 0.004</td>\n",
       "    </tr>\n",
       "  </tbody>\n",
       "</table>\n",
       "</div>"
      ],
      "text/plain": [
       "                           False          True \n",
       "n_corrupt_sources                              \n",
       "2                  0.852 ± 0.005  0.878 ± 0.003\n",
       "3                  0.835 ± 0.005  0.863 ± 0.002\n",
       "4                  0.816 ± 0.009  0.845 ± 0.003\n",
       "5                  0.793 ± 0.009  0.822 ± 0.004\n",
       "6                  0.771 ± 0.009  0.804 ± 0.004"
      ]
     },
     "execution_count": 8,
     "metadata": {},
     "output_type": "execute_result"
    }
   ],
   "source": [
    "(\n",
    "    results_df\n",
    "    .loc[lambda df: df.metric == 'test_top1acc']\n",
    "    .groupby([\"n_corrupt_sources\", \"depression\", \"run\"])\n",
    "    [['value']]\n",
    "    .max()\n",
    "    .reset_index()\n",
    "    .groupby([\"n_corrupt_sources\", \"depression\"])\n",
    "    ['value']\n",
    "    .agg(['mean', 'std'])\n",
    "    .assign(\n",
    "        mean_std = lambda x: \n",
    "            np.round(x['mean'], 3).astype(str) \n",
    "            + \" ± \"\n",
    "            + np.round(x['std'], 3).astype(str),\n",
    "    )\n",
    "    ['mean_std']\n",
    "    .unstack('depression')\n",
    "    .rename_axis(None, axis=1)\n",
    ")"
   ]
  },
  {
   "cell_type": "code",
   "execution_count": 9,
   "metadata": {},
   "outputs": [
    {
     "data": {
      "image/png": "[encoded data removed]",
      "text/plain": [
       "<Figure size 422.717x211.358 with 1 Axes>"
      ]
     },
     "metadata": {},
     "output_type": "display_data"
    }
   ],
   "source": [
    "with plotting.paper_theme():\n",
    "    plt.close()\n",
    "    colours = sns.color_palette(plotting.palette, 2)[::-1]\n",
    "    colours[1] = \"xkcd:burnt orange\"\n",
    "\n",
    "    fig, ax = plt.subplots(figsize=(colwidth, 0.5*colwidth))\n",
    "\n",
    "    ax = sns.lineplot(\n",
    "        data=(\n",
    "            results_df\n",
    "            .loc[lambda df: df.metric == 'test_top1acc']\n",
    "            .groupby([\"n_corrupt_sources\", \"depression\", \"run\"])\n",
    "            [['value']]\n",
    "            .max()\n",
    "            .reset_index()\n",
    "            .replace({\"depression\": {True: \"RRL + LAP\", False: \"RRL\"}})\n",
    "        ),\n",
    "        x=\"n_corrupt_sources\",\n",
    "        y=\"value\",\n",
    "        hue=\"depression\",\n",
    "        style=\"depression\",\n",
    "        palette=colours,\n",
    "        hue_order=[\"RRL + LAP\", \"RRL\"],\n",
    "        markers=['o', 'X'],\n",
    "        markersize=5,\n",
    "        markeredgewidth=0.5,\n",
    "        ax=ax,\n",
    "        errorbar='sd',\n",
    "    )\n",
    "\n",
    "    ax.set_ylim(0.75, 0.90)\n",
    "    yloc = mpl.ticker.MaxNLocator(5, steps=[5, 10])\n",
    "    yformat = mpl.ticker.FuncFormatter(lambda x, pos: f\"{x*100 : .0f}%\")\n",
    "\n",
    "    ax.yaxis.set_major_locator(yloc)\n",
    "    ax.yaxis.set_major_formatter(yformat)\n",
    "\n",
    "    xloc = mpl.ticker.MultipleLocator(base=1)\n",
    "\n",
    "    ax.xaxis.set_major_locator(xloc)\n",
    "\n",
    "    ax.set_xlabel(\"Number of Noisy Sources\")\n",
    "    ax.set_ylabel(\"Test Accuracy (\\%)\")\n",
    "\n",
    "\n",
    "    sns.move_legend(ax, title=\"Method\", loc=\"lower left\")\n",
    "    \n",
    "    fig.subplots_adjust(top=0.98, bottom=0.2, left=0.1085, right=0.99)\n",
    "\n",
    "    plotting.save_fig(\n",
    "        fig, output_path + \"cifar10n_acc_vs_corruption_presnet\"\n",
    "    )\n",
    "\n",
    "\n",
    "    plt.show()"
   ]
  }
 ],
 "metadata": {
  "kernelspec": {
   "display_name": "lap",
   "language": "python",
   "name": "python3"
  },
  "language_info": {
   "codemirror_mode": {
    "name": "ipython",
    "version": 3
   },
   "file_extension": ".py",
   "mimetype": "text/x-python",
   "name": "python",
   "nbconvert_exporter": "python",
   "pygments_lexer": "ipython3",
   "version": "3.11.5"
  },
  "orig_nbformat": 4
 },
 "nbformat": 4,
 "nbformat_minor": 2
}
