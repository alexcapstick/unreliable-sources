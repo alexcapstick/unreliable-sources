{
 "cells": [
  {
   "cell_type": "markdown",
   "metadata": {},
   "source": [
    "# Testing Tiny Imagenet data with LAP:"
   ]
  },
  {
   "cell_type": "code",
   "execution_count": 1,
   "metadata": {},
   "outputs": [],
   "source": [
    "output_path = './outputs/graphs/'\n",
    "results_path = 'outputs/tiny_imagenet_random_label/'"
   ]
  },
  {
   "cell_type": "code",
   "execution_count": 2,
   "metadata": {},
   "outputs": [],
   "source": [
    "import json\n",
    "import pandas as pd\n",
    "import numpy as np\n",
    "import seaborn as sns\n",
    "import matplotlib.pyplot as plt\n",
    "import matplotlib as mpl\n",
    "import os\n",
    "import graph_code.graphing_utils as plotting"
   ]
  },
  {
   "cell_type": "code",
   "execution_count": 3,
   "metadata": {},
   "outputs": [],
   "source": [
    "colwidth = 4.22716535\n",
    "pagewidth = 8.7598425"
   ]
  },
  {
   "cell_type": "code",
   "execution_count": 4,
   "metadata": {},
   "outputs": [],
   "source": [
    "results_list = []\n",
    "\n",
    "for file in [\n",
    "    f for f in os.listdir(results_path) if f.endswith(\"json\")\n",
    "]:\n",
    "    with open(results_path + file) as f:\n",
    "        results_temp = json.load(f)\n",
    "    results_list.append(results_temp)\n"
   ]
  },
  {
   "cell_type": "code",
   "execution_count": 5,
   "metadata": {},
   "outputs": [],
   "source": [
    "results = {}\n",
    "\n",
    "for results_dict in results_list:\n",
    "    \n",
    "    for dataset in results_dict:\n",
    "        if dataset not in results:\n",
    "            results[dataset] = {}\n",
    "        \n",
    "        for corruption_type in results_dict[dataset]:\n",
    "            if corruption_type not in results[dataset]:\n",
    "                results[dataset][corruption_type] = {}\n",
    "\n",
    "            for run in results_dict[dataset][corruption_type]:\n",
    "                if run not in results[dataset][corruption_type]:\n",
    "                    results[dataset][corruption_type][run] = {}\n",
    "\n",
    "                for depression in results_dict[dataset][corruption_type][run]:\n",
    "\n",
    "                    results[dataset][corruption_type][run][depression] = [\n",
    "                        dict(epoch=int(epoch), **metrics) \n",
    "                        for epoch, metrics in results_dict[dataset][corruption_type][run][depression].items() \n",
    "                        if epoch != 'corrupt_sources'\n",
    "                    ]"
   ]
  },
  {
   "cell_type": "code",
   "execution_count": 6,
   "metadata": {},
   "outputs": [],
   "source": [
    "results_df = []\n",
    "\n",
    "for dataset in results:\n",
    "    for corruption_type in results[dataset]:\n",
    "        for run in results[dataset][corruption_type]:\n",
    "            for depression in results[dataset][corruption_type][run]:\n",
    "                results_df.append(\n",
    "                    pd.json_normalize(\n",
    "                        results[dataset][corruption_type][run][depression]\n",
    "                    )\n",
    "                    .assign(\n",
    "                        dataset=dataset,\n",
    "                        corruption_type=corruption_type,\n",
    "                        run=run,\n",
    "                        depression=depression\n",
    "                    )\n",
    "                    .assign(epoch=lambda x: x['epoch']+1)\n",
    "                )\n",
    "\n",
    "results_df = pd.concat(results_df)\n",
    "results_df = (\n",
    "    results_df\n",
    "    .replace({\"depression\": {\"true\": True, \"false\": False}})\n",
    "    .astype(\n",
    "        {\n",
    "            \"run\": \"int64\",\n",
    "            \"depression\": \"bool\",\n",
    "        }\n",
    "    )\n",
    ")"
   ]
  },
  {
   "cell_type": "code",
   "execution_count": 7,
   "metadata": {},
   "outputs": [],
   "source": [
    "results_df = results_df.melt(\n",
    "    id_vars=['dataset', 'corruption_type', 'run', 'depression', 'epoch'],\n",
    "    var_name='metric',\n",
    "    value_name='value'\n",
    ")"
   ]
  },
  {
   "cell_type": "code",
   "execution_count": 11,
   "metadata": {},
   "outputs": [
    {
     "data": {
      "text/html": [
       "<div>\n",
       "<style scoped>\n",
       "    .dataframe tbody tr th:only-of-type {\n",
       "        vertical-align: middle;\n",
       "    }\n",
       "\n",
       "    .dataframe tbody tr th {\n",
       "        vertical-align: top;\n",
       "    }\n",
       "\n",
       "    .dataframe thead th {\n",
       "        text-align: right;\n",
       "    }\n",
       "</style>\n",
       "<table border=\"1\" class=\"dataframe\">\n",
       "  <thead>\n",
       "    <tr style=\"text-align: right;\">\n",
       "      <th>LAP</th>\n",
       "      <th>Noise Type</th>\n",
       "      <th>Standard</th>\n",
       "      <th>LAP (Ours)</th>\n",
       "    </tr>\n",
       "  </thead>\n",
       "  <tbody>\n",
       "    <tr>\n",
       "      <th>0</th>\n",
       "      <td>Original Data</td>\n",
       "      <td>\\textbf{61.32 ± 0.61}</td>\n",
       "      <td>60.62 ± 0.71</td>\n",
       "    </tr>\n",
       "    <tr>\n",
       "      <th>1</th>\n",
       "      <td>Random Label</td>\n",
       "      <td>46.27 ± 1.04</td>\n",
       "      <td>\\textbf{54.48 ± 0.57}</td>\n",
       "    </tr>\n",
       "  </tbody>\n",
       "</table>\n",
       "</div>"
      ],
      "text/plain": [
       "LAP     Noise Type               Standard             LAP (Ours)\n",
       "0    Original Data  \\textbf{61.32 ± 0.61}           60.62 ± 0.71\n",
       "1     Random Label           46.27 ± 1.04  \\textbf{54.48 ± 0.57}"
      ]
     },
     "execution_count": 11,
     "metadata": {},
     "output_type": "execute_result"
    }
   ],
   "source": [
    "def bold_max_value_latex(x, model_names):\n",
    "    x = x.copy()\n",
    "    len_cols = x.shape[0]\n",
    "    n_models = len(model_names)\n",
    "    idx_bold = (\n",
    "        x\n",
    "        [-n_models:]\n",
    "        .str.replace(\" \", \"\")\n",
    "        .str.split(\"±\")\n",
    "        .str[0]\n",
    "        .astype(float)\n",
    "        .argmax()\n",
    "    )\n",
    "    max_val = x.iloc[idx_bold+len_cols-n_models]\n",
    "    max_val, max_std = map(float, max_val.split(\"±\"))\n",
    "\n",
    "    for i in range(len_cols-n_models, len_cols):\n",
    "        val = x.iloc[i]\n",
    "        val, std = map(float, val.split(\"±\"))\n",
    "        if val >= max_val - max_std and val <= max_val + max_std:\n",
    "            x.iloc[i] = '\\\\textbf{' + x.iloc[i] + '}'\n",
    "    \n",
    "    return x\n",
    "\n",
    "\n",
    "corruption_order = [\n",
    "    \"Original Data\",\n",
    "    \"Random Label\",\n",
    "]\n",
    "\n",
    "\n",
    "model_order = [\n",
    "    'Standard',\n",
    "    'LAP (Ours)',\n",
    "]\n",
    "\n",
    "results_final_df = (\n",
    "    results_df\n",
    "    .loc[lambda df: df.metric == 'test_top5acc']\n",
    "    .groupby([\"depression\", \"corruption_type\", \"run\"])\n",
    "    [['value']]\n",
    "    .max()\n",
    "    .assign(value = lambda x: x['value']*100)\n",
    "    .reset_index()\n",
    "    .groupby([\"depression\", \"corruption_type\"])\n",
    "    ['value']\n",
    "    .agg(['mean', 'std'])\n",
    "    .assign(\n",
    "        mean_std = lambda x: \n",
    "            np.round(x['mean'], 2).astype(str) \n",
    "            + \" ± \"\n",
    "            + np.round(x['std'], 2).astype(str),\n",
    "    )\n",
    "    ['mean_std']\n",
    "    .to_frame()\n",
    "    .reset_index()\n",
    "    .rename(columns={\n",
    "        \"depression\": \"LAP\", \n",
    "        \"corruption_type\": \"Noise Type\",\n",
    "        \"mean_std\": \"Top-5 Accuracy\"\n",
    "    })\n",
    "    .replace(\n",
    "        {\n",
    "            \"LAP\": {\n",
    "                False: \"Standard\",\n",
    "                True: \"LAP (Ours)\"\n",
    "            },\n",
    "            \"Noise Type\": {\n",
    "                \"random_label\": \"Random Label\",\n",
    "                \"original\": \"Original Data\",\n",
    "            }\n",
    "        }\n",
    "    )\n",
    "    .pivot(\n",
    "        index=\"Noise Type\",\n",
    "        columns=\"LAP\",\n",
    "        values=\"Top-5 Accuracy\"\n",
    "    )\n",
    "    .reset_index()\n",
    "    [[\n",
    "        'Noise Type',  'Standard', 'LAP (Ours)',\n",
    "    ]]\n",
    "    .sort_values(\n",
    "        \"Noise Type\", key=lambda x: x.map(corruption_order.index)\n",
    "    )\n",
    "    # makes bold with latex:\n",
    "    .apply(\n",
    "        bold_max_value_latex,\n",
    "        model_names = model_order,\n",
    "        axis=1\n",
    "    )\n",
    ")\n",
    "\n",
    "results_final_df"
   ]
  },
  {
   "cell_type": "code",
   "execution_count": 12,
   "metadata": {},
   "outputs": [
    {
     "name": "stdout",
     "output_type": "stream",
     "text": [
      "\\begin{tabular}{lll}\n",
      "\\toprule\n",
      "Noise Type & Standard & LAP (Ours) \\\\\n",
      "\\midrule\n",
      "Original Data & \\textbf{61.32 ± 0.61} & 60.62 ± 0.71 \\\\\n",
      "Random Label & 46.27 ± 1.04 & \\textbf{54.48 ± 0.57} \\\\\n",
      "\\bottomrule\n",
      "\\end{tabular}\n",
      "\n"
     ]
    }
   ],
   "source": [
    "print(\n",
    "    results_final_df.to_latex(index=False)\n",
    ")"
   ]
  },
  {
   "cell_type": "code",
   "execution_count": null,
   "metadata": {},
   "outputs": [],
   "source": []
  }
 ],
 "metadata": {
  "kernelspec": {
   "display_name": "dri",
   "language": "python",
   "name": "python3"
  },
  "language_info": {
   "codemirror_mode": {
    "name": "ipython",
    "version": 3
   },
   "file_extension": ".py",
   "mimetype": "text/x-python",
   "name": "python",
   "nbconvert_exporter": "python",
   "pygments_lexer": "ipython3",
   "version": "3.11.5"
  },
  "orig_nbformat": 4,
  "vscode": {
   "interpreter": {
    "hash": "ad3e725889aea935bc8f7d39d98ca77608799ca82787692c4d41ff6ee284b9e2"
   }
  }
 },
 "nbformat": 4,
 "nbformat_minor": 2
}
